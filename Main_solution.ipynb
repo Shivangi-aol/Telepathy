{
  "nbformat": 4,
  "nbformat_minor": 0,
  "metadata": {
    "colab": {
      "provenance": []
    },
    "kernelspec": {
      "name": "python3",
      "display_name": "Python 3"
    },
    "language_info": {
      "name": "python"
    }
  },
  "cells": [
    {
      "cell_type": "code",
      "execution_count": 1,
      "metadata": {
        "colab": {
          "base_uri": "https://localhost:8080/"
        },
        "id": "QvKBTkGZx1IK",
        "outputId": "3e9bc9f9-9083-4e68-c8e8-e8ceb1411820"
      },
      "outputs": [
        {
          "output_type": "stream",
          "name": "stdout",
          "text": [
            "Max time incurred:  2\n"
          ]
        }
      ],
      "source": [
        "# Python3 program to rot all\n",
        "# oranges when u can move\n",
        "# in all the four direction\n",
        "# from a rotten orange\n",
        "R = 3\n",
        "C = 5\n",
        " \n",
        "# Check if i, j is under the\n",
        "# array limits of row and\n",
        "# column\n",
        " \n",
        " \n",
        "def issafe(i, j):\n",
        " \n",
        "    if (i >= 0 and i < R and\n",
        "            j >= 0 and j < C):\n",
        "        return True\n",
        "    return False\n",
        " \n",
        " \n",
        "def rotOranges(v):\n",
        " \n",
        "    changed = False\n",
        "    no = 2\n",
        "    while (True):\n",
        "        for i in range(R):\n",
        "            for j in range(C):\n",
        " \n",
        "                # Rot all other oranges\n",
        "                # present at (i+1, j),\n",
        "                # (i, j-1), (i, j+1),\n",
        "                # (i-1, j)\n",
        "                if (v[i][j] == no):\n",
        "                    if (issafe(i + 1, j) and\n",
        "                            v[i + 1][j] == 1):\n",
        "                        v[i + 1][j] = v[i][j] + 1\n",
        "                        changed = True\n",
        " \n",
        "                    if (issafe(i, j + 1) and\n",
        "                            v[i][j + 1] == 1):\n",
        "                        v[i][j + 1] = v[i][j] + 1\n",
        "                        changed = True\n",
        " \n",
        "                    if (issafe(i - 1, j) and\n",
        "                            v[i - 1][j] == 1):\n",
        "                        v[i - 1][j] = v[i][j] + 1\n",
        "                        changed = True\n",
        " \n",
        "                    if (issafe(i, j - 1) and\n",
        "                            v[i][j - 1] == 1):\n",
        "                        v[i][j - 1] = v[i][j] + 1\n",
        "                        changed = True\n",
        " \n",
        "        # if no rotten orange found\n",
        "        # it means all oranges rottened\n",
        "        # now\n",
        "        if (not changed):\n",
        "            break\n",
        "        changed = False\n",
        "        no += 1\n",
        " \n",
        "    for i in range(R):\n",
        "        for j in range(C):\n",
        " \n",
        "            # if any orange is found\n",
        "            # to be not rotten then\n",
        "            # ans is not possible\n",
        "            if (v[i][j] == 1):\n",
        "                return -1\n",
        " \n",
        "    # Because initial value\n",
        "    # for a rotten orange was 2\n",
        "    return no - 2\n",
        " \n",
        " \n",
        "# Driver function\n",
        "if __name__ == \"__main__\":\n",
        " \n",
        "    v = [[2, 1, 0, 2, 1],\n",
        "         [1, 0, 1, 2, 1],\n",
        "         [1, 0, 0, 2, 1]]\n",
        " \n",
        "    print(\"Max time incurred: \",\n",
        "          rotOranges(v))\n",
        " \n",
        "# This code is contributed by Chitranayal"
      ]
    }
  ]
}